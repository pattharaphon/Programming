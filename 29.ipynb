{
 "cells": [
  {
   "cell_type": "code",
   "execution_count": 7,
   "metadata": {},
   "outputs": [
    {
     "name": "stdout",
     "output_type": "stream",
     "text": [
      "มีน้ำอัดลม5\n",
      "มีขนม10\n",
      "เอาไปแบ่งให้เพื่อน3\n",
      "มีน้ำอัดลมและขนมทั้งหมด 15 ขวด ห่อ\n",
      "เอาไปแบ่งเพื่อน 5.0 ลูก ห่อ\n"
     ]
    }
   ],
   "source": [
    "\"\"\"\n",
    "มีน้ำอัดลม 5 ขวด และมีขนมอีก 10 ห่อ เอาไปแบ่งให้เพื่อนในกลุ่มกิน 3 คน คนละเท่าๆกันเพื่อนจะได้รับน้ำแหละขนมคนล่ะเท่าไร \n",
    "\"\"\"\n",
    "a=int(input(\"มีน้ำอัดลม\")) \n",
    "b=int(input(\"มีขนม\")) \n",
    "c=int(input(\"เอาไปแบ่งให้เพื่อน\")) \n",
    "print(\"มีน้ำอัดลมและขนมทั้งหมด\",a+b,\"ขวด\",\"ห่อ\") \n",
    "print(\"เอาไปแบ่งเพื่อน\",(a+b)/c,\"ลูก\",\"ห่อ\")"
   ]
  },
  {
   "cell_type": "code",
   "execution_count": 22,
   "metadata": {},
   "outputs": [
    {
     "name": "stdout",
     "output_type": "stream",
     "text": [
      "แหวนเพชร : 32000\n",
      "ขาดทุน : 0.050\n",
      "ราคาที่ขาดทุน 1600 บาท\n",
      "ราคาที่ขาดทุน : 1600\n",
      "ราคาที่ขายได้ 30400 บาท\n"
     ]
    }
   ],
   "source": [
    "\"\"\"\n",
    "ซื้อแหวนเพชรราคา 32,000.0 บาท ขายไปและขาดทุน 0.050 ของราคาสร้อย  อยากทราบว่าราคาที่ขายขาดทุนเท่าไร \n",
    "\"\"\"\n",
    "Price = float(input(\"แหวนเพชร : \"))\n",
    "Sale  = float(input(\"ขาดทุน : \"))\n",
    "print(\"ราคาที่ขาดทุน\",int(Price*Sale),\"บาท\")\n",
    "s = float(input(\"ราคาที่ขาดทุน : \"))\n",
    "print(\"ราคาที่ขายได้\",int(Price-s),\"บาท\")"
   ]
  },
  {
   "cell_type": "code",
   "execution_count": 23,
   "metadata": {},
   "outputs": [
    {
     "name": "stdout",
     "output_type": "stream",
     "text": [
      "ราคเกลือถุงละ = 18\n",
      "ราคา x จำนวนถุง \n",
      "18 * 1 = 18 บาท\n",
      "18 * 2 = 36 บาท\n",
      "18 * 3 = 54 บาท\n",
      "18 * 4 = 72 บาท\n",
      "18 * 5 = 90 บาท\n",
      "18 * 6 = 108 บาท\n",
      "18 * 7 = 126 บาท\n",
      "18 * 8 = 144 บาท\n",
      "18 * 9 = 162 บาท\n"
     ]
    }
   ],
   "source": [
    "\"\"\"\n",
    "ร้านขายของแห่งหนึ่ง ขายเกลือ ราคาถุงละ 18 บาท แต่ซื้อได้ไม่เกินครอบครัวล่ะ 20 ถุง\n",
    "โดยติดราคา ตั้งแต่ถุงที่ 1 ถึงถุงที่ 20 ไว้ดังนี้ ให้คำนวณราคาตั้งแต่ถุงที่1-20 ว่ามีราคาเท่าไหร่บ้าง\n",
    "\"\"\"\n",
    "Price = int(input(\"ราคเกลือถุงละ = \"))\n",
    "print(\"ราคา x จำนวนถุง \")\n",
    "for i in range(1,10):\n",
    "    print(Price,\"*\" , i,\"=\",Price*i, \"บาท\")"
   ]
  },
  {
   "cell_type": "code",
   "execution_count": 24,
   "metadata": {},
   "outputs": [
    {
     "name": "stdout",
     "output_type": "stream",
     "text": [
      "จำนวนนักศึกษาทั้งหมด : 180\n",
      "ไม่มาเรียน : 0.10\n",
      "นักศึกษาที่ไม่มาเรียน 18 คน\n"
     ]
    }
   ],
   "source": [
    "\"\"\"\n",
    "นักศึกษาสาขาหนึ่งมีจำนวน 180 คน ไม่มาเรียนจำนวน  0.10 ของนักศึกษาทั้งหมด จงหานักศึกษาที่ไม่มาเรียน\n",
    "\"\"\"\n",
    "count = int(input(\"จำนวนนักศึกษาทั้งหมด : \"))\n",
    "absent = input(\"ไม่มาเรียน : \")\n",
    "m       = round(int(count) *float(absent))\n",
    "print(\"นักศึกษาที่ไม่มาเรียน\",m,\"คน\")"
   ]
  },
  {
   "cell_type": "code",
   "execution_count": null,
   "metadata": {},
   "outputs": [],
   "source": []
  },
  {
   "cell_type": "code",
   "execution_count": null,
   "metadata": {},
   "outputs": [],
   "source": []
  },
  {
   "cell_type": "code",
   "execution_count": null,
   "metadata": {},
   "outputs": [],
   "source": []
  }
 ],
 "metadata": {
  "kernelspec": {
   "display_name": "Python 3",
   "language": "python",
   "name": "python3"
  },
  "language_info": {
   "codemirror_mode": {
    "name": "ipython",
    "version": 3
   },
   "file_extension": ".py",
   "mimetype": "text/x-python",
   "name": "python",
   "nbconvert_exporter": "python",
   "pygments_lexer": "ipython3",
   "version": "3.7.4"
  }
 },
 "nbformat": 4,
 "nbformat_minor": 2
}
