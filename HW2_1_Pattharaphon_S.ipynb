{
 "cells": [
  {
   "cell_type": "code",
   "execution_count": 1,
   "metadata": {},
   "outputs": [
    {
     "name": "stdout",
     "output_type": "stream",
     "text": [
      "           MENU          \n",
      "Welcome to icecream shop\n",
      "1.Strawberry 80 THB\n",
      "2.Vanilla       50 THB\n",
      "3.Chocalate  40 THB\n",
      "4.Lemon      90 THB\n",
      "5.Milk          10 THB\n",
      "------------------\n",
      "Do you want ?5\n",
      "You order: 5 price = 10 THB\n"
     ]
    }
   ],
   "source": [
    "'''\n",
    "Pattharaphon Suwanjarern 362515241020\n",
    "'''\n",
    "print(\"           MENU          \")\n",
    "print(\"Welcome to icecream shop\")\n",
    "print(\"1.Strawberry 80 THB\")\n",
    "print(\"2.Vanilla       50 THB\")\n",
    "print(\"3.Chocalate  40 THB\")\n",
    "print(\"4.Lemon      90 THB\")\n",
    "print(\"5.Milk          10 THB\")\n",
    "print(\"------------------\")\n",
    "ch=int(input(\"Do you want ?\"))\n",
    "\n",
    "if ch==1:\n",
    "    price=80\n",
    "    print(\"You order:\",ch,\"price = \",price,\"THB\")\n",
    "elif ch==2:\n",
    "    price=50\n",
    "    print(\"You order:\",ch,\"price = \",price,\"THB\")\n",
    "elif ch==3:\n",
    "    price=40\n",
    "    print(\"You order:\",ch,\"price = \",price,\"THB\")\n",
    "elif ch==4:\n",
    "    price=90\n",
    "    print(\"You order:\",ch,\"price = \",price,\"THB\")\n",
    "elif ch==5:\n",
    "    price=10\n",
    "    print(\"You order:\",ch,\"price =\",price,\"THB\")\n",
    "else:\n",
    "    print(\"You not order:\")"
   ]
  },
  {
   "cell_type": "code",
   "execution_count": null,
   "metadata": {},
   "outputs": [],
   "source": []
  }
 ],
 "metadata": {
  "kernelspec": {
   "display_name": "Python 3",
   "language": "python",
   "name": "python3"
  },
  "language_info": {
   "codemirror_mode": {
    "name": "ipython",
    "version": 3
   },
   "file_extension": ".py",
   "mimetype": "text/x-python",
   "name": "python",
   "nbconvert_exporter": "python",
   "pygments_lexer": "ipython3",
   "version": "3.7.3"
  }
 },
 "nbformat": 4,
 "nbformat_minor": 2
}
