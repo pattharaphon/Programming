{
 "cells": [
  {
   "cell_type": "code",
   "execution_count": 1,
   "metadata": {},
   "outputs": [
    {
     "name": "stdout",
     "output_type": "stream",
     "text": [
      "ไม้ท่อแผ่นที่ 1 ยาว : 12.00\n",
      "ไม้แผ่นที่ 2 ยาว : 8.00\n",
      "ตัดไปทำเตียง 1 เตียง ยาว : 2.0\n",
      "จะเหลือไม้อีก =  18.0 เมตร\n",
      " Use wood\n"
     ]
    }
   ],
   "source": [
    "\"\"\"\n",
    "ไม้แผ่นหนึ่งยาว 12.00 เมตร และไม้อีกท่อนหนึ่งยาว 8.0 เมตร มาเชื่อมกันแล้วตัดออกไปทำเตียง 2.0 เมตร จะเหลืออีกกี่เมตร\n",
    "\"\"\"\n",
    "wood_1 = float(input(\"ไม้ท่อแผ่นที่ 1 ยาว : \"))\n",
    "wood_2 = float(input(\"ไม้แผ่นที่ 2 ยาว : \"))\n",
    "cut     = float(input(\"ตัดไปทำเตียง 1 เตียง ยาว : \"))\n",
    "Mix     = wood_1 + wood_2\n",
    "wood   = Mix - cut\n",
    "print(\"จะเหลือไม้อีก = \",wood,\"เมตร\")\n",
    "if wood > 10 :\n",
    "    print(\" Use wood\")"
   ]
  },
  {
   "cell_type": "code",
   "execution_count": 7,
   "metadata": {},
   "outputs": [
    {
     "name": "stdout",
     "output_type": "stream",
     "text": [
      "ขายขายพาราไป : 980.50\n",
      "ราคากิโลกรัมละ : 90.50\n",
      "ไอแพทเครื่องล่ะ : 18900\n",
      " จะได้ไอแพด  4 เครื่อง\n",
      "สามารถซื้อได้ แต่ได้ไม่ครบตามจำนวน\n"
     ]
    }
   ],
   "source": [
    "\"\"\"\n",
    "ขายยางพาราไป 980.50 กิโลกรัม ราคากิโลกรัมละ 90.50 บาท เอาเงินที่ขายได้ไปซื้อไอแพทให้ลูก\n",
    "ราคาาเครื่องล่ะ 18900 บาท จะซื้อไอแพดทั้งหมดกี่เครื่อง \n",
    "\"\"\"\n",
    "V = float(input(\"ขายขายพาราไป : \"))\n",
    "S = float(input(\"ราคากิโลกรัมละ : \"))\n",
    "P = float(input(\"ไอแพทเครื่องล่ะ : \"))\n",
    "money = V * S\n",
    "count = int(money // P)\n",
    "print(\" จะได้ไอแพด \",count, \"เครื่อง\")\n",
    "if count < 5 :\n",
    "    print(\"สามารถซื้อได้ แต่ได้ไม่ครบตามจำนวน\")\n",
    "elif count > 25 :\n",
    "    print(\"เกินจำนวนที่ต้องการ\")\n",
    "else:\n",
    "    count == 19\n",
    "    print(\"ได้ครบตามจำนวน\")"
   ]
  },
  {
   "cell_type": "code",
   "execution_count": null,
   "metadata": {},
   "outputs": [],
   "source": [
    "\"\"\"\n",
    "ในการเทคอนกรีตพื้นห้องกว้าง 5 เมตร ยาว 15 เมตร เสียค่าใช้จ่ายตารางเมตรละ 250 บาท\n",
    "อยากทราบว่าจะต้องเสียเงินในการเทคอนกรีตทั้งหมดกี่บาท\n",
    "\"\"\"\n",
    "wide  = float(input(\"พื้นห้องกว้าง = \"))\n",
    "long  = float(input(\"พื้นห้องยาว  = \"))\n",
    "po   = int(input(\"จ่ายตารางเมตรละ = \"))\n",
    "mix   = wide * long\n",
    "print(\"พื้นที่ห้องมี\",mix, \"ตารางเมตร\")\n",
    "pay = mix * po \n",
    "print(\"ต้องเสียเงินในการเทคอนกรีต\",pay,\"บาท\")"
   ]
  }
 ],
 "metadata": {
  "kernelspec": {
   "display_name": "Python 3",
   "language": "python",
   "name": "python3"
  },
  "language_info": {
   "codemirror_mode": {
    "name": "ipython",
    "version": 3
   },
   "file_extension": ".py",
   "mimetype": "text/x-python",
   "name": "python",
   "nbconvert_exporter": "python",
   "pygments_lexer": "ipython3",
   "version": "3.7.4"
  }
 },
 "nbformat": 4,
 "nbformat_minor": 2
}
